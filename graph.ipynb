{
 "cells": [
  {
   "cell_type": "code",
   "execution_count": 1,
   "metadata": {},
   "outputs": [],
   "source": [
    "import facebook as fb"
   ]
  },
  {
   "cell_type": "code",
   "execution_count": 6,
   "metadata": {},
   "outputs": [],
   "source": [
    "access_token = 'EAAR2De0jbC4BAKVVvEGcjrGnZCbqgywTASUlkHyPo4UoR60oHDmQmJRhZB56ZBgl2jx0TT9hxBfjUTx5zZAJI4ZApgc5fnEGu2wraXxhTOHiJ20KJZCghtc0xeXzlib7T8ZBRgUgmAT742Bc2KRu8VduZC19KGUZCLjPMSjeKnqey06vhbrynKNPfPXIabPZAeHZB4x5sjTQuiRCDbzpvgpnzxu'"
   ]
  },
  {
   "cell_type": "code",
   "execution_count": 7,
   "metadata": {},
   "outputs": [],
   "source": [
    "nrfb = fb.GraphAPI(access_token)"
   ]
  },
  {
   "cell_type": "code",
   "execution_count": 8,
   "metadata": {},
   "outputs": [
    {
     "data": {
      "text/plain": [
       "{'id': '110397838639459_110703268607556'}"
      ]
     },
     "execution_count": 8,
     "metadata": {},
     "output_type": "execute_result"
    }
   ],
   "source": [
    "nrfb.put_object(\"me\",\"feed\",message=\"this is the message\")"
   ]
  },
  {
   "cell_type": "code",
   "execution_count": 9,
   "metadata": {},
   "outputs": [
    {
     "data": {
      "text/plain": [
       "{'created_time': '2023-02-13T02:41:37+0000',\n",
       " 'message': 'this is the message',\n",
       " 'id': '110397838639459_110703268607556'}"
      ]
     },
     "execution_count": 9,
     "metadata": {},
     "output_type": "execute_result"
    }
   ],
   "source": [
    "nrfb.get_object('110397838639459_110703268607556')"
   ]
  },
  {
   "cell_type": "code",
   "execution_count": 10,
   "metadata": {},
   "outputs": [
    {
     "data": {
      "text/plain": [
       "{'id': '110705391940677', 'post_id': '110397838639459_110705408607342'}"
      ]
     },
     "execution_count": 10,
     "metadata": {},
     "output_type": "execute_result"
    }
   ],
   "source": [
    "nrfb.put_photo(open(\"self.jpg\",\"rb\"),message=\"what do you think of my photo while I was in KKN\")"
   ]
  },
  {
   "cell_type": "code",
   "execution_count": 13,
   "metadata": {},
   "outputs": [
    {
     "data": {
      "text/plain": [
       "{'id': '110705391940677_1364405694100403'}"
      ]
     },
     "execution_count": 13,
     "metadata": {},
     "output_type": "execute_result"
    }
   ],
   "source": [
    "nrfb.put_object('110705391940677','comments',message='heeyyy not bad!')"
   ]
  },
  {
   "cell_type": "code",
   "execution_count": 19,
   "metadata": {},
   "outputs": [
    {
     "name": "stdout",
     "output_type": "stream",
     "text": [
      "what do you think of my photo while I was in KKN\n",
      "this is the message\n"
     ]
    }
   ],
   "source": [
    "import requests\n",
    "\n",
    "# Define the ID of the Facebook page you want to scrape\n",
    "page_id = '110397838639459'\n",
    "\n",
    "# Define your Facebook access token\n",
    "access_token = 'EAAR2De0jbC4BAKVVvEGcjrGnZCbqgywTASUlkHyPo4UoR60oHDmQmJRhZB56ZBgl2jx0TT9hxBfjUTx5zZAJI4ZApgc5fnEGu2wraXxhTOHiJ20KJZCghtc0xeXzlib7T8ZBRgUgmAT742Bc2KRu8VduZC19KGUZCLjPMSjeKnqey06vhbrynKNPfPXIabPZAeHZB4x5sjTQuiRCDbzpvgpnzxu'\n",
    "\n",
    "# Send a GET request to the Graph API endpoint for the page\n",
    "response = requests.get(f'https://graph.facebook.com/{page_id}/posts?access_token={access_token}')\n",
    "\n",
    "# Check the status code of the response to make sure the request was successful\n",
    "if response.status_code == 200:\n",
    "    # Load the JSON data from the response\n",
    "    data = response.json()\n",
    "\n",
    "    # Get the posts from the data\n",
    "    posts = data['data']\n",
    "\n",
    "    # Iterate through the posts and print the message of each post\n",
    "    for post in posts:\n",
    "        print(post.get('message', 'No message'))\n",
    "else:\n",
    "    # If the request was not successful, print an error message\n",
    "    print(f'Request failed with status code {response.status_code}')\n"
   ]
  },
  {
   "cell_type": "code",
   "execution_count": 20,
   "metadata": {},
   "outputs": [
    {
     "name": "stdout",
     "output_type": "stream",
     "text": [
      "heeyyy not bad!\n",
      "heyy not bad!\n",
      "first\n",
      "yay!\n",
      "Retrieved a total of 4 comments.\n"
     ]
    }
   ],
   "source": [
    "import requests\n",
    "\n",
    "# Define the ID or username of the Facebook page you want to scrape\n",
    "page_id_or_username = '110397838639459'\n",
    "\n",
    "# Define your Facebook access token\n",
    "access_token = 'EAAR2De0jbC4BAKVVvEGcjrGnZCbqgywTASUlkHyPo4UoR60oHDmQmJRhZB56ZBgl2jx0TT9hxBfjUTx5zZAJI4ZApgc5fnEGu2wraXxhTOHiJ20KJZCghtc0xeXzlib7T8ZBRgUgmAT742Bc2KRu8VduZC19KGUZCLjPMSjeKnqey06vhbrynKNPfPXIabPZAeHZB4x5sjTQuiRCDbzpvgpnzxu'\n",
    "\n",
    "# Initialize a counter for the number of comments retrieved\n",
    "counter = 0\n",
    "\n",
    "# Keep track of the end of the results\n",
    "end = False\n",
    "\n",
    "# A variable to store the URL for the next set of results\n",
    "next_url = f'https://graph.facebook.com/{page_id_or_username}/posts?fields=id,message&access_token={access_token}'\n",
    "\n",
    "# Continuously retrieve posts and comments until there are no more results\n",
    "while not end:\n",
    "    # Send a GET request to the next URL\n",
    "    response = requests.get(next_url)\n",
    "\n",
    "    # Check the status code of the response to make sure the request was successful\n",
    "    if response.status_code == 200:\n",
    "        # Load the JSON data from the response\n",
    "        data = response.json()\n",
    "\n",
    "        # Get the posts from the data\n",
    "        posts = data['data']\n",
    "\n",
    "        # Iterate through the posts\n",
    "        for post in posts:\n",
    "            # Get the ID of the post\n",
    "            post_id = post['id']\n",
    "\n",
    "            # Send a GET request to the Graph API endpoint for the post's comments\n",
    "            comments_response = requests.get(f'https://graph.facebook.com/{post_id}/comments?access_token={access_token}')\n",
    "\n",
    "            # Check the status code of the comments response to make sure the request was successful\n",
    "            if comments_response.status_code == 200:\n",
    "                # Load the JSON data from the comments response\n",
    "                comments_data = comments_response.json()\n",
    "\n",
    "                # Get the comments from the comments data\n",
    "                comments = comments_data['data']\n",
    "\n",
    "                # Iterate through the comments and print the message of each comment\n",
    "                for comment in comments:\n",
    "                    print(comment.get('message', 'No message'))\n",
    "                    counter += 1\n",
    "            else:\n",
    "                # If the comments request was not successful, print an error message\n",
    "                print(f'Comments request failed with status code {comments_response.status_code}')\n",
    "        # Check if there is a next URL for more results\n",
    "        if 'paging' in data and 'next' in data['paging']:\n",
    "            next_url = data['paging']['next']\n",
    "        else:\n",
    "            end = True\n",
    "    else:\n",
    "        # If the request was not successful, print an error message\n",
    "        print(f'Request failed with status code {response.status_code}')\n",
    "\n",
    "# Print the total number of comments retrieved\n",
    "print(f'Retrieved a total of {counter} comments.')\n"
   ]
  },
  {
   "cell_type": "code",
   "execution_count": 21,
   "metadata": {},
   "outputs": [
    {
     "name": "stdout",
     "output_type": "stream",
     "text": [
      "Post message: what do you think of my photo while I was in KKN\n",
      "Comment message: heeyyy not bad!\n",
      "Post message: what do you think of my photo while I was in KKN\n",
      "Comment message: heyy not bad!\n",
      "Post message: what do you think of my photo while I was in KKN\n",
      "Comment message: first\n",
      "Post message: this is the message\n",
      "Comment message: yay!\n",
      "Retrieved a total of 4 comments.\n"
     ]
    }
   ],
   "source": [
    "import requests\n",
    "\n",
    "# Define the ID or username of the Facebook page you want to scrape\n",
    "page_id_or_username = '110397838639459'\n",
    "\n",
    "# Define your Facebook access token\n",
    "access_token = 'EAAR2De0jbC4BAKVVvEGcjrGnZCbqgywTASUlkHyPo4UoR60oHDmQmJRhZB56ZBgl2jx0TT9hxBfjUTx5zZAJI4ZApgc5fnEGu2wraXxhTOHiJ20KJZCghtc0xeXzlib7T8ZBRgUgmAT742Bc2KRu8VduZC19KGUZCLjPMSjeKnqey06vhbrynKNPfPXIabPZAeHZB4x5sjTQuiRCDbzpvgpnzxu'\n",
    "\n",
    "# Initialize a counter for the number of comments retrieved\n",
    "counter = 0\n",
    "\n",
    "# Keep track of the end of the results\n",
    "end = False\n",
    "\n",
    "# A variable to store the URL for the next set of results\n",
    "next_url = f'https://graph.facebook.com/{page_id_or_username}/posts?fields=id,message&access_token={access_token}'\n",
    "\n",
    "# Continuously retrieve posts and comments until there are no more results\n",
    "while not end:\n",
    "    # Send a GET request to the next URL\n",
    "    response = requests.get(next_url)\n",
    "\n",
    "    # Check the status code of the response to make sure the request was successful\n",
    "    if response.status_code == 200:\n",
    "        # Load the JSON data from the response\n",
    "        data = response.json()\n",
    "\n",
    "        # Get the posts from the data\n",
    "        posts = data['data']\n",
    "\n",
    "        # Iterate through the posts\n",
    "        for post in posts:\n",
    "            # Get the ID and message of the post\n",
    "            post_id = post['id']\n",
    "            post_message = post.get('message', 'No message')\n",
    "\n",
    "            # Send a GET request to the Graph API endpoint for the post's comments\n",
    "            comments_response = requests.get(f'https://graph.facebook.com/{post_id}/comments?access_token={access_token}')\n",
    "\n",
    "            # Check the status code of the comments response to make sure the request was successful\n",
    "            if comments_response.status_code == 200:\n",
    "                # Load the JSON data from the comments response\n",
    "                comments_data = comments_response.json()\n",
    "\n",
    "                # Get the comments from the comments data\n",
    "                comments = comments_data['data']\n",
    "\n",
    "                # Iterate through the comments and print the message of each comment\n",
    "                for comment in comments:\n",
    "                    print(f'Post message: {post_message}')\n",
    "                    print(f'Comment message: {comment.get(\"message\", \"No message\")}')\n",
    "                    counter += 1\n",
    "            else:\n",
    "                # If the comments request was not successful, print an error message\n",
    "                print(f'Comments request failed with status code {comments_response.status_code}')\n",
    "        # Check if there is a next URL for more results\n",
    "        if 'paging' in data and 'next' in data['paging']:\n",
    "            next_url = data['paging']['next']\n",
    "        else:\n",
    "            end = True\n",
    "    else:\n",
    "        # If the request was not successful, print an error message\n",
    "        print(f'Request failed with status code {response.status_code}')\n",
    "\n",
    "# Print the total number of comments retrieved\n",
    "print(f'Retrieved a total of {counter} comments.')\n"
   ]
  }
 ],
 "metadata": {
  "kernelspec": {
   "display_name": "Python 3",
   "language": "python",
   "name": "python3"
  },
  "language_info": {
   "codemirror_mode": {
    "name": "ipython",
    "version": 3
   },
   "file_extension": ".py",
   "mimetype": "text/x-python",
   "name": "python",
   "nbconvert_exporter": "python",
   "pygments_lexer": "ipython3",
   "version": "3.10.7"
  },
  "orig_nbformat": 4,
  "vscode": {
   "interpreter": {
    "hash": "27f6fea6f47ae512550f0b8facdbd035a93e1dd89633f7bf2dd00a2502c71d0d"
   }
  }
 },
 "nbformat": 4,
 "nbformat_minor": 2
}
